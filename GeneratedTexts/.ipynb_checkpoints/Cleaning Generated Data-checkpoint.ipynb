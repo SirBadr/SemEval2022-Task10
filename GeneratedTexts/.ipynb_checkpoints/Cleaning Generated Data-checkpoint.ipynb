{
 "cells": [
  {
   "cell_type": "code",
   "execution_count": 66,
   "id": "97cdcf00",
   "metadata": {},
   "outputs": [
    {
     "name": "stdout",
     "output_type": "stream",
     "text": [
      "gpt_generated_texts_190.json\r\n"
     ]
    }
   ],
   "source": [
    "ls TaskB"
   ]
  },
  {
   "cell_type": "markdown",
   "id": "419e8b78",
   "metadata": {},
   "source": [
    "## TaskB"
   ]
  },
  {
   "cell_type": "code",
   "execution_count": 67,
   "id": "8bb1abd0",
   "metadata": {},
   "outputs": [],
   "source": [
    "import json\n",
    "with open(f'TaskB/gpt_generated_texts_190.json', 'r') as outfile:\n",
    "    texts = json.load(outfile)"
   ]
  },
  {
   "cell_type": "code",
   "execution_count": null,
   "id": "4dd70026",
   "metadata": {},
   "outputs": [],
   "source": []
  },
  {
   "cell_type": "code",
   "execution_count": 68,
   "id": "dae44803",
   "metadata": {},
   "outputs": [],
   "source": [
    "import pandas as pd\n",
    "import itertools\n",
    "\n",
    "tweets = []\n",
    "for label in texts:\n",
    "    sents = texts[label]\n",
    "    \n",
    "    flatten_sents = list(itertools.chain.from_iterable(sents))\n",
    "    for sent in flatten_sents:\n",
    "        candidates_tweets = sent.split(\"\\n\")\n",
    "        for tweet in candidates_tweets:\n",
    "            if not tweet.startswith(\"* \"):\n",
    "                continue\n",
    "            tweets.append({\n",
    "                \"text\": tweet,\n",
    "                \"label\": label\n",
    "            })\n",
    "            \n",
    "tweets = pd.DataFrame(tweets)\n",
    "tweets = tweets.drop_duplicates(subset='text', keep=\"last\")\n"
   ]
  },
  {
   "cell_type": "code",
   "execution_count": 70,
   "id": "a16c1d26",
   "metadata": {},
   "outputs": [],
   "source": [
    "tweets.to_csv(\"task_b_generated_text.csv\", index=False)"
   ]
  },
  {
   "cell_type": "markdown",
   "id": "1f8a965a",
   "metadata": {},
   "source": [
    "## TaskC"
   ]
  },
  {
   "cell_type": "code",
   "execution_count": 71,
   "id": "5a7fe51a",
   "metadata": {},
   "outputs": [],
   "source": [
    "import json\n",
    "with open(f'TaskC/gpt_generated_texts_40.json', 'r') as outfile:\n",
    "    texts = json.load(outfile)"
   ]
  },
  {
   "cell_type": "code",
   "execution_count": 72,
   "id": "bdd7f660",
   "metadata": {},
   "outputs": [],
   "source": [
    "import pandas as pd\n",
    "import itertools\n",
    "\n",
    "tweets = []\n",
    "for label in texts:\n",
    "    sents = texts[label]\n",
    "    \n",
    "    flatten_sents = list(itertools.chain.from_iterable(sents))\n",
    "    for sent in flatten_sents:\n",
    "        candidates_tweets = sent.split(\"\\n\")\n",
    "        for tweet in candidates_tweets:\n",
    "            if not tweet.startswith(\"* \"):\n",
    "                continue\n",
    "            tweets.append({\n",
    "                \"text\": tweet,\n",
    "                \"label\": label\n",
    "            })\n",
    "            \n",
    "tweets = pd.DataFrame(tweets)\n",
    "tweets = tweets.drop_duplicates(subset='text', keep=\"last\")\n"
   ]
  },
  {
   "cell_type": "code",
   "execution_count": 74,
   "id": "eea2ee72",
   "metadata": {},
   "outputs": [
    {
     "data": {
      "text/html": [
       "<div>\n",
       "<style scoped>\n",
       "    .dataframe tbody tr th:only-of-type {\n",
       "        vertical-align: middle;\n",
       "    }\n",
       "\n",
       "    .dataframe tbody tr th {\n",
       "        vertical-align: top;\n",
       "    }\n",
       "\n",
       "    .dataframe thead th {\n",
       "        text-align: right;\n",
       "    }\n",
       "</style>\n",
       "<table border=\"1\" class=\"dataframe\">\n",
       "  <thead>\n",
       "    <tr style=\"text-align: right;\">\n",
       "      <th></th>\n",
       "      <th>text</th>\n",
       "      <th>label</th>\n",
       "    </tr>\n",
       "  </thead>\n",
       "  <tbody>\n",
       "    <tr>\n",
       "      <th>6</th>\n",
       "      <td>* Do you imagine there was a whole tribe of No...</td>\n",
       "      <td>2.3 dehumanising attacks &amp; overt sexual object...</td>\n",
       "    </tr>\n",
       "    <tr>\n",
       "      <th>7</th>\n",
       "      <td>* *Is there a way we can get into Normies? How...</td>\n",
       "      <td>2.3 dehumanising attacks &amp; overt sexual object...</td>\n",
       "    </tr>\n",
       "    <tr>\n",
       "      <th>8</th>\n",
       "      <td>* I need to stop posting.</td>\n",
       "      <td>2.3 dehumanising attacks &amp; overt sexual object...</td>\n",
       "    </tr>\n",
       "    <tr>\n",
       "      <th>12</th>\n",
       "      <td>* These women actually think they can get out ...</td>\n",
       "      <td>2.3 dehumanising attacks &amp; overt sexual object...</td>\n",
       "    </tr>\n",
       "    <tr>\n",
       "      <th>13</th>\n",
       "      <td>* Just because you have a penis doesn't make y...</td>\n",
       "      <td>2.3 dehumanising attacks &amp; overt sexual object...</td>\n",
       "    </tr>\n",
       "    <tr>\n",
       "      <th>...</th>\n",
       "      <td>...</td>\n",
       "      <td>...</td>\n",
       "    </tr>\n",
       "    <tr>\n",
       "      <th>14202</th>\n",
       "      <td>* Why would Normie be a prude? She's a slutty ...</td>\n",
       "      <td>1.1 threats of harm</td>\n",
       "    </tr>\n",
       "    <tr>\n",
       "      <th>14203</th>\n",
       "      <td>* Chad, Normie and Chad's gay neighbor. Chad g...</td>\n",
       "      <td>1.1 threats of harm</td>\n",
       "    </tr>\n",
       "    <tr>\n",
       "      <th>14204</th>\n",
       "      <td>* Not even Chad has that much control over her...</td>\n",
       "      <td>1.1 threats of harm</td>\n",
       "    </tr>\n",
       "    <tr>\n",
       "      <th>14205</th>\n",
       "      <td>* What did you do to Chad last night? He alway...</td>\n",
       "      <td>1.1 threats of harm</td>\n",
       "    </tr>\n",
       "    <tr>\n",
       "      <th>14206</th>\n",
       "      <td>* I</td>\n",
       "      <td>1.1 threats of harm</td>\n",
       "    </tr>\n",
       "  </tbody>\n",
       "</table>\n",
       "<p>8238 rows × 2 columns</p>\n",
       "</div>"
      ],
      "text/plain": [
       "                                                    text  \\\n",
       "6      * Do you imagine there was a whole tribe of No...   \n",
       "7      * *Is there a way we can get into Normies? How...   \n",
       "8                              * I need to stop posting.   \n",
       "12     * These women actually think they can get out ...   \n",
       "13     * Just because you have a penis doesn't make y...   \n",
       "...                                                  ...   \n",
       "14202  * Why would Normie be a prude? She's a slutty ...   \n",
       "14203  * Chad, Normie and Chad's gay neighbor. Chad g...   \n",
       "14204  * Not even Chad has that much control over her...   \n",
       "14205  * What did you do to Chad last night? He alway...   \n",
       "14206                                                * I   \n",
       "\n",
       "                                                   label  \n",
       "6      2.3 dehumanising attacks & overt sexual object...  \n",
       "7      2.3 dehumanising attacks & overt sexual object...  \n",
       "8      2.3 dehumanising attacks & overt sexual object...  \n",
       "12     2.3 dehumanising attacks & overt sexual object...  \n",
       "13     2.3 dehumanising attacks & overt sexual object...  \n",
       "...                                                  ...  \n",
       "14202                                1.1 threats of harm  \n",
       "14203                                1.1 threats of harm  \n",
       "14204                                1.1 threats of harm  \n",
       "14205                                1.1 threats of harm  \n",
       "14206                                1.1 threats of harm  \n",
       "\n",
       "[8238 rows x 2 columns]"
      ]
     },
     "execution_count": 74,
     "metadata": {},
     "output_type": "execute_result"
    }
   ],
   "source": [
    "tweets"
   ]
  },
  {
   "cell_type": "code",
   "execution_count": null,
   "id": "b2969fd5",
   "metadata": {},
   "outputs": [],
   "source": [
    "tweets.to_csv(\"task_c_generated_text.csv\", index=False)"
   ]
  }
 ],
 "metadata": {
  "kernelspec": {
   "display_name": "Python 3 (ipykernel)",
   "language": "python",
   "name": "python3"
  },
  "language_info": {
   "codemirror_mode": {
    "name": "ipython",
    "version": 3
   },
   "file_extension": ".py",
   "mimetype": "text/x-python",
   "name": "python",
   "nbconvert_exporter": "python",
   "pygments_lexer": "ipython3",
   "version": "3.9.7"
  }
 },
 "nbformat": 4,
 "nbformat_minor": 5
}
