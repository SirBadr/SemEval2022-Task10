{
 "cells": [
  {
   "cell_type": "code",
   "execution_count": 1,
   "id": "ec9a03ca",
   "metadata": {},
   "outputs": [],
   "source": [
    "data_path = \"./Data/starting_ki/train_all_tasks.csv\""
   ]
  },
  {
   "cell_type": "code",
   "execution_count": 2,
   "id": "4faed7b1",
   "metadata": {},
   "outputs": [],
   "source": [
    "import pandas as pd\n",
    "data = pd.read_csv(data_path)\n",
    "data = data[data[\"label_category\"]!=\"none\"]"
   ]
  },
  {
   "cell_type": "code",
   "execution_count": 4,
   "id": "9e5203fe",
   "metadata": {},
   "outputs": [
    {
     "name": "stdout",
     "output_type": "stream",
     "text": [
      "Prejudiced discussion\n"
     ]
    }
   ],
   "source": [
    "label_category_map = {\n",
    "    \"1. threats, plans to harm and incitement\":\"Threat\",\n",
    "    \"2. derogation\":\"Derogation\",\n",
    "    \"3. animosity\":\"Animosity\",\n",
    "    \"4. prejudiced discussions\":\"Prejudiced discussion\",\n",
    "    \"Threat\":\"1. threats, plans to harm and incitement\",\n",
    "    \"Derogation\":\"2. derogation\",\n",
    "    \"Animosity\":\"3. animosity\",\n",
    "    \"Prejudiced discussion\":\"4. prejudiced discussions\"\n",
    "}\n",
    "print(label_category_map[\"4. prejudiced discussions\"])"
   ]
  },
  {
   "cell_type": "code",
   "execution_count": 5,
   "id": "8bc67f9d",
   "metadata": {},
   "outputs": [],
   "source": [
    "import random\n",
    "# function returns two random text samples to use them as GPT-J prompt\n",
    "def get_three_random_samples(data_frame):\n",
    "    # get two random samples from `data file`\n",
    "    s1, s2, s3 = random.sample(range(0, len(data)), 3)\n",
    "    # get text labels\n",
    "    label1 = label_category_map[data_frame['label_category'].iloc[s1]]\n",
    "    label2 = label_category_map[data_frame['label_category'].iloc[s2]]\n",
    "    label3 = label_category_map[data_frame['label_category'].iloc[s3]]\n",
    "#     print(label_category_map[label1])\n",
    "    \n",
    "    # return text1, label1, text2, label2\n",
    "    return data_frame['text'].iloc[s1], label1, data_frame['text'].iloc[s1], label2, data_frame['text'].iloc[s3], label3\n"
   ]
  },
  {
   "cell_type": "code",
   "execution_count": 6,
   "id": "cd01f10f",
   "metadata": {},
   "outputs": [],
   "source": [
    "def get_prompt(text1, label1, text2, label2, text3, label3):\n",
    "    # define a function that takes as input three samples and generates the prompt\n",
    "    # that we should pass to the GPT-3 language model for completion.\n",
    "    description = \"Each item in the following list contains a tweet and the respective category. Category is one of 'Threat', 'Derogation', 'Animosity', or 'Prejudiced discussion'\"\n",
    "    prompt = (f\"{description}\\n\"\n",
    "            f\"Tweet: {text1} (Sentiment: {label1})\\n\"\n",
    "            f\"Tweet: {text2} (Sentiment: {label2})\\n\"\n",
    "            f\"Tweet: {text3} (Sentiment: {label3})\\n\"\n",
    "            f\"Tweet:\")\n",
    "    return prompt\n"
   ]
  },
  {
   "cell_type": "code",
   "execution_count": 14,
   "id": "1ba6d766",
   "metadata": {},
   "outputs": [
    {
     "data": {
      "text/plain": [
       "\"Each item in the following list contains a tweet and the respective category. Category is one of 'Threat', 'Derogation', 'Animosity', or 'Prejudiced discussion'\\nTweet: Ya think? I mean, these thots are *so consumed* by social media, they are more inclined to *trust the social media* than the *actual man right in front of them*. (Sentiment: Animosity)\\nTweet: Ya think? I mean, these thots are *so consumed* by social media, they are more inclined to *trust the social media* than the *actual man right in front of them*. (Sentiment: Animosity)\\nTweet: Don't know, don't care. I got better things to do than entertain some barren spinster. (Sentiment: Derogation)\\nTweet:\""
      ]
     },
     "execution_count": 14,
     "metadata": {},
     "output_type": "execute_result"
    }
   ],
   "source": [
    "a,b,c,d,e,f=get_three_random_samples(data)\n",
    "get_prompt(a,b,c,d,e,f)"
   ]
  },
  {
   "cell_type": "code",
   "execution_count": 7,
   "id": "a32c06c8",
   "metadata": {},
   "outputs": [
    {
     "data": {
      "application/vnd.jupyter.widget-view+json": {
       "model_id": "286549fc5b5f4f8395999595c49972ae",
       "version_major": 2,
       "version_minor": 0
      },
      "text/plain": [
       "Downloading:   0%|          | 0.00/3.25G [00:00<?, ?B/s]"
      ]
     },
     "metadata": {},
     "output_type": "display_data"
    }
   ],
   "source": [
    "from transformers import GPT2LMHeadModel, GPT2Tokenizer\n",
    "tokenizer = GPT2Tokenizer.from_pretrained(\"gpt2-large\")\n",
    "model = GPT2LMHeadModel.from_pretrained(\"gpt2-large\", pad_token_id=tokenizer.eos_token_id)\n"
   ]
  },
  {
   "cell_type": "code",
   "execution_count": 15,
   "id": "a33e49bb",
   "metadata": {},
   "outputs": [],
   "source": [
    "a,b,c,d,e,f=get_three_random_samples(data)\n",
    "sentence = get_prompt(a,b,c,d,e,f)\n",
    "print(sentence)\n",
    "print(\"===================================\")\n",
    "input_ids = tokenizer.encode(sentence, return_tensors='pt')\n",
    "# generate text until the output length (which includes the context length) reaches 50\n",
    "output = model.generate(input_ids, max_length=200, num_beams=5, no_repeat_ngram_size=2, early_stopping=True)"
   ]
  },
  {
   "cell_type": "code",
   "execution_count": 16,
   "id": "bbf076f1",
   "metadata": {},
   "outputs": [
    {
     "name": "stdout",
     "output_type": "stream",
     "text": [
      "Each item in the following list contains a tweet and the respective category. Category is one of 'Threat', 'Derogation', 'Animosity', or 'Prejudiced discussion'\n",
      "Tweet: most sjw's are women......fuck 'em! 1/0 (Sentiment: Derogation)\n",
      "Tweet: most sjw's are women......fuck 'em! 1/0 (Sentiment: Derogation)\n",
      "Tweet: It's a sad day for men when a once virile, gold-medal American olympic champion decides he'd rather be female..TRP is more important now than ever.... (Sentiment: Derogation)\n",
      "Tweet: I don't care if you're a man or a woman, you should be able to do whatever the fuck you want with your own body. I'm not going to tell you what you can and can't do, but I will say that you shouldn't try to impose your\n"
     ]
    }
   ],
   "source": [
    "print(tokenizer.decode(output[0], skip_special_tokens=True))"
   ]
  },
  {
   "cell_type": "code",
   "execution_count": null,
   "id": "01323091",
   "metadata": {},
   "outputs": [],
   "source": []
  },
  {
   "cell_type": "code",
   "execution_count": null,
   "id": "707ff0a2",
   "metadata": {},
   "outputs": [],
   "source": []
  }
 ],
 "metadata": {
  "kernelspec": {
   "display_name": "Python 3 (ipykernel)",
   "language": "python",
   "name": "python3"
  },
  "language_info": {
   "codemirror_mode": {
    "name": "ipython",
    "version": 3
   },
   "file_extension": ".py",
   "mimetype": "text/x-python",
   "name": "python",
   "nbconvert_exporter": "python",
   "pygments_lexer": "ipython3",
   "version": "3.10.4"
  }
 },
 "nbformat": 4,
 "nbformat_minor": 5
}
